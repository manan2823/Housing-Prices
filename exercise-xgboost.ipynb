{
 "cells": [
  {
   "cell_type": "markdown",
   "id": "6867db8f",
   "metadata": {
    "papermill": {
     "duration": 0.010451,
     "end_time": "2022-05-29T12:28:14.787481",
     "exception": false,
     "start_time": "2022-05-29T12:28:14.777030",
     "status": "completed"
    },
    "tags": []
   },
   "source": [
    "**This notebook is an exercise in the [Intermediate Machine Learning](https://www.kaggle.com/learn/intermediate-machine-learning) course.  You can reference the tutorial at [this link](https://www.kaggle.com/alexisbcook/xgboost).**\n",
    "\n",
    "---\n"
   ]
  },
  {
   "cell_type": "markdown",
   "id": "911dc1c0",
   "metadata": {
    "papermill": {
     "duration": 0.00528,
     "end_time": "2022-05-29T12:28:14.798984",
     "exception": false,
     "start_time": "2022-05-29T12:28:14.793704",
     "status": "completed"
    },
    "tags": []
   },
   "source": [
    "In this exercise, you will use your new knowledge to train a model with **gradient boosting**.\n",
    "\n",
    "# Setup\n",
    "\n",
    "The questions below will give you feedback on your work. Run the following cell to set up the feedback system."
   ]
  },
  {
   "cell_type": "code",
   "execution_count": 1,
   "id": "5fc36bd8",
   "metadata": {
    "execution": {
     "iopub.execute_input": "2022-05-29T12:28:14.812866Z",
     "iopub.status.busy": "2022-05-29T12:28:14.811623Z",
     "iopub.status.idle": "2022-05-29T12:28:17.275907Z",
     "shell.execute_reply": "2022-05-29T12:28:17.274470Z"
    },
    "papermill": {
     "duration": 2.474899,
     "end_time": "2022-05-29T12:28:17.279487",
     "exception": false,
     "start_time": "2022-05-29T12:28:14.804588",
     "status": "completed"
    },
    "tags": []
   },
   "outputs": [
    {
     "name": "stdout",
     "output_type": "stream",
     "text": [
      "Setup Complete\n"
     ]
    }
   ],
   "source": [
    "# Set up code checking\n",
    "import os\n",
    "if not os.path.exists(\"../input/train.csv\"):\n",
    "    os.symlink(\"../input/home-data-for-ml-course/train.csv\", \"../input/train.csv\")  \n",
    "    os.symlink(\"../input/home-data-for-ml-course/test.csv\", \"../input/test.csv\") \n",
    "from learntools.core import binder\n",
    "binder.bind(globals())\n",
    "from learntools.ml_intermediate.ex6 import *\n",
    "print(\"Setup Complete\")"
   ]
  },
  {
   "cell_type": "markdown",
   "id": "3df6de19",
   "metadata": {
    "papermill": {
     "duration": 0.005621,
     "end_time": "2022-05-29T12:28:17.291649",
     "exception": false,
     "start_time": "2022-05-29T12:28:17.286028",
     "status": "completed"
    },
    "tags": []
   },
   "source": [
    "You will work with the [Housing Prices Competition for Kaggle Learn Users](https://www.kaggle.com/c/home-data-for-ml-course) dataset from the previous exercise. \n",
    "\n",
    "![Ames Housing dataset image](https://i.imgur.com/lTJVG4e.png)\n",
    "\n",
    "Run the next code cell without changes to load the training and validation sets in `X_train`, `X_valid`, `y_train`, and `y_valid`.  The test set is loaded in `X_test`."
   ]
  },
  {
   "cell_type": "code",
   "execution_count": 2,
   "id": "194ca753",
   "metadata": {
    "execution": {
     "iopub.execute_input": "2022-05-29T12:28:17.304254Z",
     "iopub.status.busy": "2022-05-29T12:28:17.303864Z",
     "iopub.status.idle": "2022-05-29T12:28:17.494744Z",
     "shell.execute_reply": "2022-05-29T12:28:17.493875Z"
    },
    "papermill": {
     "duration": 0.200069,
     "end_time": "2022-05-29T12:28:17.497187",
     "exception": false,
     "start_time": "2022-05-29T12:28:17.297118",
     "status": "completed"
    },
    "tags": []
   },
   "outputs": [],
   "source": [
    "import pandas as pd\n",
    "from sklearn.model_selection import train_test_split\n",
    "\n",
    "# Read the data\n",
    "X = pd.read_csv('../input/train.csv', index_col='Id')\n",
    "X_test_full = pd.read_csv('../input/test.csv', index_col='Id')\n",
    "\n",
    "# Remove rows with missing target, separate target from predictors\n",
    "X.dropna(axis=0, subset=['SalePrice'], inplace=True)\n",
    "y = X.SalePrice              \n",
    "X.drop(['SalePrice'], axis=1, inplace=True)\n",
    "\n",
    "# Break off validation set from training data\n",
    "X_train_full, X_valid_full, y_train, y_valid = train_test_split(X, y, train_size=0.8, test_size=0.2,\n",
    "                                                                random_state=0)\n",
    "\n",
    "# \"Cardinality\" means the number of unique values in a column\n",
    "# Select categorical columns with relatively low cardinality (convenient but arbitrary)\n",
    "low_cardinality_cols = [cname for cname in X_train_full.columns if X_train_full[cname].nunique() < 10 and \n",
    "                        X_train_full[cname].dtype == \"object\"]\n",
    "\n",
    "# Select numeric columns\n",
    "numeric_cols = [cname for cname in X_train_full.columns if X_train_full[cname].dtype in ['int64', 'float64']]\n",
    "\n",
    "# Keep selected columns only\n",
    "my_cols = low_cardinality_cols + numeric_cols\n",
    "X_train = X_train_full[my_cols].copy()\n",
    "X_valid = X_valid_full[my_cols].copy()\n",
    "X_test = X_test_full[my_cols].copy()\n",
    "\n",
    "# One-hot encode the data (to shorten the code, we use pandas)\n",
    "X_train = pd.get_dummies(X_train)\n",
    "X_valid = pd.get_dummies(X_valid)\n",
    "X_test = pd.get_dummies(X_test)\n",
    "X_train, X_valid = X_train.align(X_valid, join='left', axis=1)\n",
    "X_train, X_test = X_train.align(X_test, join='left', axis=1)"
   ]
  },
  {
   "cell_type": "markdown",
   "id": "919fb777",
   "metadata": {
    "papermill": {
     "duration": 0.005295,
     "end_time": "2022-05-29T12:28:17.508126",
     "exception": false,
     "start_time": "2022-05-29T12:28:17.502831",
     "status": "completed"
    },
    "tags": []
   },
   "source": [
    "# Step 1: Build model\n",
    "\n",
    "### Part A\n",
    "\n",
    "In this step, you'll build and train your first model with gradient boosting.\n",
    "\n",
    "- Begin by setting `my_model_1` to an XGBoost model.  Use the [XGBRegressor](https://xgboost.readthedocs.io/en/latest/python/python_api.html#xgboost.XGBRegressor) class, and set the random seed to 0 (`random_state=0`).  **Leave all other parameters as default.**\n",
    "- Then, fit the model to the training data in `X_train` and `y_train`."
   ]
  },
  {
   "cell_type": "code",
   "execution_count": 3,
   "id": "e49e3054",
   "metadata": {
    "execution": {
     "iopub.execute_input": "2022-05-29T12:28:17.520779Z",
     "iopub.status.busy": "2022-05-29T12:28:17.520390Z",
     "iopub.status.idle": "2022-05-29T12:28:18.426417Z",
     "shell.execute_reply": "2022-05-29T12:28:18.425587Z"
    },
    "papermill": {
     "duration": 0.914961,
     "end_time": "2022-05-29T12:28:18.428556",
     "exception": false,
     "start_time": "2022-05-29T12:28:17.513595",
     "status": "completed"
    },
    "tags": []
   },
   "outputs": [
    {
     "data": {
      "application/javascript": [
       "parent.postMessage({\"jupyterEvent\": \"custom.exercise_interaction\", \"data\": {\"outcomeType\": 1, \"valueTowardsCompletion\": 0.5, \"interactionType\": 1, \"questionType\": 2, \"questionId\": \"1.1_Model1A\", \"learnToolsVersion\": \"0.3.4\", \"failureMessage\": \"\", \"exceptionClass\": \"\", \"trace\": \"\"}}, \"*\")"
      ],
      "text/plain": [
       "<IPython.core.display.Javascript object>"
      ]
     },
     "metadata": {},
     "output_type": "display_data"
    },
    {
     "data": {
      "text/markdown": [
       "<span style=\"color:#33cc33\">Correct</span>"
      ],
      "text/plain": [
       "Correct"
      ]
     },
     "metadata": {},
     "output_type": "display_data"
    }
   ],
   "source": [
    "from xgboost import XGBRegressor\n",
    "\n",
    "# Define the model\n",
    "my_model_1 = XGBRegressor(random_state=0)\n",
    "\n",
    "# Fit the model\n",
    "my_model_1.fit(X_train,y_train)\n",
    "\n",
    "# Check your answer\n",
    "step_1.a.check()"
   ]
  },
  {
   "cell_type": "code",
   "execution_count": 4,
   "id": "6b47cbea",
   "metadata": {
    "execution": {
     "iopub.execute_input": "2022-05-29T12:28:18.442066Z",
     "iopub.status.busy": "2022-05-29T12:28:18.441695Z",
     "iopub.status.idle": "2022-05-29T12:28:18.445408Z",
     "shell.execute_reply": "2022-05-29T12:28:18.444476Z"
    },
    "papermill": {
     "duration": 0.01286,
     "end_time": "2022-05-29T12:28:18.447551",
     "exception": false,
     "start_time": "2022-05-29T12:28:18.434691",
     "status": "completed"
    },
    "tags": []
   },
   "outputs": [],
   "source": [
    "# Lines below will give you a hint or solution code\n",
    "#step_1.a.hint()\n",
    "#step_1.a.solution()"
   ]
  },
  {
   "cell_type": "markdown",
   "id": "787fd555",
   "metadata": {
    "papermill": {
     "duration": 0.005659,
     "end_time": "2022-05-29T12:28:18.459105",
     "exception": false,
     "start_time": "2022-05-29T12:28:18.453446",
     "status": "completed"
    },
    "tags": []
   },
   "source": [
    "### Part B\n",
    "\n",
    "Set `predictions_1` to the model's predictions for the validation data.  Recall that the validation features are stored in `X_valid`."
   ]
  },
  {
   "cell_type": "code",
   "execution_count": 5,
   "id": "a54264c3",
   "metadata": {
    "execution": {
     "iopub.execute_input": "2022-05-29T12:28:18.472715Z",
     "iopub.status.busy": "2022-05-29T12:28:18.472304Z",
     "iopub.status.idle": "2022-05-29T12:28:18.496393Z",
     "shell.execute_reply": "2022-05-29T12:28:18.495740Z"
    },
    "papermill": {
     "duration": 0.033587,
     "end_time": "2022-05-29T12:28:18.498526",
     "exception": false,
     "start_time": "2022-05-29T12:28:18.464939",
     "status": "completed"
    },
    "tags": []
   },
   "outputs": [
    {
     "data": {
      "application/javascript": [
       "parent.postMessage({\"jupyterEvent\": \"custom.exercise_interaction\", \"data\": {\"outcomeType\": 1, \"valueTowardsCompletion\": 0.5, \"interactionType\": 1, \"questionType\": 2, \"questionId\": \"1.2_Model1B\", \"learnToolsVersion\": \"0.3.4\", \"failureMessage\": \"\", \"exceptionClass\": \"\", \"trace\": \"\"}}, \"*\")"
      ],
      "text/plain": [
       "<IPython.core.display.Javascript object>"
      ]
     },
     "metadata": {},
     "output_type": "display_data"
    },
    {
     "data": {
      "text/markdown": [
       "<span style=\"color:#33cc33\">Correct</span>"
      ],
      "text/plain": [
       "Correct"
      ]
     },
     "metadata": {},
     "output_type": "display_data"
    }
   ],
   "source": [
    "from sklearn.metrics import mean_absolute_error\n",
    "\n",
    "# Get predictions\n",
    "predictions_1 = my_model_1.predict(X_valid)\n",
    "\n",
    "\n",
    "# Check your answer\n",
    "step_1.b.check()"
   ]
  },
  {
   "cell_type": "code",
   "execution_count": 6,
   "id": "f09291e5",
   "metadata": {
    "execution": {
     "iopub.execute_input": "2022-05-29T12:28:18.513680Z",
     "iopub.status.busy": "2022-05-29T12:28:18.513315Z",
     "iopub.status.idle": "2022-05-29T12:28:18.516961Z",
     "shell.execute_reply": "2022-05-29T12:28:18.516166Z"
    },
    "papermill": {
     "duration": 0.013221,
     "end_time": "2022-05-29T12:28:18.519136",
     "exception": false,
     "start_time": "2022-05-29T12:28:18.505915",
     "status": "completed"
    },
    "tags": []
   },
   "outputs": [],
   "source": [
    "# Lines below will give you a hint or solution code\n",
    "#step_1.b.hint()\n",
    "#step_1.b.solution()"
   ]
  },
  {
   "cell_type": "markdown",
   "id": "0f16146b",
   "metadata": {
    "papermill": {
     "duration": 0.00617,
     "end_time": "2022-05-29T12:28:18.531575",
     "exception": false,
     "start_time": "2022-05-29T12:28:18.525405",
     "status": "completed"
    },
    "tags": []
   },
   "source": [
    "### Part C\n",
    "\n",
    "Finally, use the `mean_absolute_error()` function to calculate the mean absolute error (MAE) corresponding to the predictions for the validation set.  Recall that the labels for the validation data are stored in `y_valid`."
   ]
  },
  {
   "cell_type": "code",
   "execution_count": 7,
   "id": "f6bf1e0b",
   "metadata": {
    "execution": {
     "iopub.execute_input": "2022-05-29T12:28:18.545806Z",
     "iopub.status.busy": "2022-05-29T12:28:18.545387Z",
     "iopub.status.idle": "2022-05-29T12:28:18.554861Z",
     "shell.execute_reply": "2022-05-29T12:28:18.554109Z"
    },
    "papermill": {
     "duration": 0.018889,
     "end_time": "2022-05-29T12:28:18.556794",
     "exception": false,
     "start_time": "2022-05-29T12:28:18.537905",
     "status": "completed"
    },
    "tags": []
   },
   "outputs": [
    {
     "name": "stdout",
     "output_type": "stream",
     "text": [
      "Mean Absolute Error: 17662.736729452055\n"
     ]
    },
    {
     "data": {
      "application/javascript": [
       "parent.postMessage({\"jupyterEvent\": \"custom.exercise_interaction\", \"data\": {\"outcomeType\": 1, \"valueTowardsCompletion\": 0.5, \"interactionType\": 1, \"questionType\": 2, \"questionId\": \"1.3_Model1C\", \"learnToolsVersion\": \"0.3.4\", \"failureMessage\": \"\", \"exceptionClass\": \"\", \"trace\": \"\"}}, \"*\")"
      ],
      "text/plain": [
       "<IPython.core.display.Javascript object>"
      ]
     },
     "metadata": {},
     "output_type": "display_data"
    },
    {
     "data": {
      "text/markdown": [
       "<span style=\"color:#33cc33\">Correct</span>"
      ],
      "text/plain": [
       "Correct"
      ]
     },
     "metadata": {},
     "output_type": "display_data"
    }
   ],
   "source": [
    "# Calculate MAE\n",
    "mae_1 =mean_absolute_error(predictions_1, y_valid)\n",
    "\n",
    "# Uncomment to print MAE\n",
    "print(\"Mean Absolute Error:\" , mae_1)\n",
    "\n",
    "# Check your answer\n",
    "step_1.c.check()"
   ]
  },
  {
   "cell_type": "code",
   "execution_count": 8,
   "id": "164d7f2f",
   "metadata": {
    "execution": {
     "iopub.execute_input": "2022-05-29T12:28:18.571554Z",
     "iopub.status.busy": "2022-05-29T12:28:18.570850Z",
     "iopub.status.idle": "2022-05-29T12:28:18.575038Z",
     "shell.execute_reply": "2022-05-29T12:28:18.574329Z"
    },
    "papermill": {
     "duration": 0.013679,
     "end_time": "2022-05-29T12:28:18.576877",
     "exception": false,
     "start_time": "2022-05-29T12:28:18.563198",
     "status": "completed"
    },
    "tags": []
   },
   "outputs": [],
   "source": [
    "# Lines below will give you a hint or solution code\n",
    "#step_1.c.hint()\n",
    "#step_1.c.solution()"
   ]
  },
  {
   "cell_type": "markdown",
   "id": "7cfc7270",
   "metadata": {
    "papermill": {
     "duration": 0.006488,
     "end_time": "2022-05-29T12:28:18.589760",
     "exception": false,
     "start_time": "2022-05-29T12:28:18.583272",
     "status": "completed"
    },
    "tags": []
   },
   "source": [
    "# Step 2: Improve the model\n",
    "\n",
    "Now that you've trained a default model as baseline, it's time to tinker with the parameters, to see if you can get better performance!\n",
    "- Begin by setting `my_model_2` to an XGBoost model, using the [XGBRegressor](https://xgboost.readthedocs.io/en/latest/python/python_api.html#xgboost.XGBRegressor) class.  Use what you learned in the previous tutorial to figure out how to change the default parameters (like `n_estimators` and `learning_rate`) to get better results.\n",
    "- Then, fit the model to the training data in `X_train` and `y_train`.\n",
    "- Set `predictions_2` to the model's predictions for the validation data.  Recall that the validation features are stored in `X_valid`.\n",
    "- Finally, use the `mean_absolute_error()` function to calculate the mean absolute error (MAE) corresponding to the predictions on the validation set.  Recall that the labels for the validation data are stored in `y_valid`.\n",
    "\n",
    "In order for this step to be marked correct, your model in `my_model_2` must attain lower MAE than the model in `my_model_1`. "
   ]
  },
  {
   "cell_type": "code",
   "execution_count": 9,
   "id": "c66deeb3",
   "metadata": {
    "execution": {
     "iopub.execute_input": "2022-05-29T12:28:18.604857Z",
     "iopub.status.busy": "2022-05-29T12:28:18.604443Z",
     "iopub.status.idle": "2022-05-29T12:28:21.245653Z",
     "shell.execute_reply": "2022-05-29T12:28:21.244915Z"
    },
    "papermill": {
     "duration": 2.651355,
     "end_time": "2022-05-29T12:28:21.247787",
     "exception": false,
     "start_time": "2022-05-29T12:28:18.596432",
     "status": "completed"
    },
    "tags": []
   },
   "outputs": [
    {
     "name": "stderr",
     "output_type": "stream",
     "text": [
      "/opt/conda/lib/python3.7/site-packages/xgboost/sklearn.py:797: UserWarning: `early_stopping_rounds` in `fit` method is deprecated for better compatibility with scikit-learn, use `early_stopping_rounds` in constructor or`set_params` instead.\n",
      "  UserWarning,\n"
     ]
    },
    {
     "name": "stdout",
     "output_type": "stream",
     "text": [
      "Mean Absolute Error: 16802.965325342466\n"
     ]
    },
    {
     "data": {
      "application/javascript": [
       "parent.postMessage({\"jupyterEvent\": \"custom.exercise_interaction\", \"data\": {\"outcomeType\": 1, \"valueTowardsCompletion\": 0.5, \"interactionType\": 1, \"questionType\": 2, \"questionId\": \"2_Model2\", \"learnToolsVersion\": \"0.3.4\", \"failureMessage\": \"\", \"exceptionClass\": \"\", \"trace\": \"\"}}, \"*\")"
      ],
      "text/plain": [
       "<IPython.core.display.Javascript object>"
      ]
     },
     "metadata": {},
     "output_type": "display_data"
    },
    {
     "data": {
      "text/markdown": [
       "<span style=\"color:#33cc33\">Correct</span>"
      ],
      "text/plain": [
       "Correct"
      ]
     },
     "metadata": {},
     "output_type": "display_data"
    }
   ],
   "source": [
    "# Define the model\n",
    "my_model_2 = XGBRegressor(n_estimators = 1000, learning_rate = 0.05)\n",
    "\n",
    "# Fit the model\n",
    "____ # Your code here\n",
    "my_model_2.fit(X_train,y_train,\n",
    "               early_stopping_rounds =5,\n",
    "               eval_set = [(X_valid,y_valid)],\n",
    "               verbose = False)\n",
    "\n",
    "# Get predictions\n",
    "predictions_2 = my_model_2.predict(X_valid)\n",
    "\n",
    "# Calculate MAE\n",
    "mae_2 = mean_absolute_error(predictions_2,y_valid)\n",
    "\n",
    "# Uncomment to print MAE\n",
    "print(\"Mean Absolute Error:\" , mae_2)\n",
    "\n",
    "# Check your answer\n",
    "step_2.check()"
   ]
  },
  {
   "cell_type": "code",
   "execution_count": 10,
   "id": "a5487350",
   "metadata": {
    "execution": {
     "iopub.execute_input": "2022-05-29T12:28:21.264061Z",
     "iopub.status.busy": "2022-05-29T12:28:21.263668Z",
     "iopub.status.idle": "2022-05-29T12:28:21.267633Z",
     "shell.execute_reply": "2022-05-29T12:28:21.266697Z"
    },
    "papermill": {
     "duration": 0.014049,
     "end_time": "2022-05-29T12:28:21.269433",
     "exception": false,
     "start_time": "2022-05-29T12:28:21.255384",
     "status": "completed"
    },
    "tags": []
   },
   "outputs": [],
   "source": [
    "# Lines below will give you a hint or solution code\n",
    "#step_2.hint()\n",
    "#step_2.solution()"
   ]
  },
  {
   "cell_type": "markdown",
   "id": "eddfc51a",
   "metadata": {
    "papermill": {
     "duration": 0.006822,
     "end_time": "2022-05-29T12:28:21.283197",
     "exception": false,
     "start_time": "2022-05-29T12:28:21.276375",
     "status": "completed"
    },
    "tags": []
   },
   "source": [
    "# Step 3: Break the model\n",
    "\n",
    "In this step, you will create a model that performs worse than the original model in Step 1.  This will help you to develop your intuition for how to set parameters.  You might even find that you accidentally get better performance, which is ultimately a nice problem to have and a valuable learning experience!\n",
    "- Begin by setting `my_model_3` to an XGBoost model, using the [XGBRegressor](https://xgboost.readthedocs.io/en/latest/python/python_api.html#xgboost.XGBRegressor) class.  Use what you learned in the previous tutorial to figure out how to change the default parameters (like `n_estimators` and `learning_rate`) to design a model to get high MAE.\n",
    "- Then, fit the model to the training data in `X_train` and `y_train`.\n",
    "- Set `predictions_3` to the model's predictions for the validation data.  Recall that the validation features are stored in `X_valid`.\n",
    "- Finally, use the `mean_absolute_error()` function to calculate the mean absolute error (MAE) corresponding to the predictions on the validation set.  Recall that the labels for the validation data are stored in `y_valid`.\n",
    "\n",
    "In order for this step to be marked correct, your model in `my_model_3` must attain higher MAE than the model in `my_model_1`. "
   ]
  },
  {
   "cell_type": "code",
   "execution_count": 11,
   "id": "deabf021",
   "metadata": {
    "execution": {
     "iopub.execute_input": "2022-05-29T12:28:21.298651Z",
     "iopub.status.busy": "2022-05-29T12:28:21.298247Z",
     "iopub.status.idle": "2022-05-29T12:28:21.581402Z",
     "shell.execute_reply": "2022-05-29T12:28:21.580674Z"
    },
    "papermill": {
     "duration": 0.293494,
     "end_time": "2022-05-29T12:28:21.583588",
     "exception": false,
     "start_time": "2022-05-29T12:28:21.290094",
     "status": "completed"
    },
    "tags": []
   },
   "outputs": [
    {
     "name": "stderr",
     "output_type": "stream",
     "text": [
      "/opt/conda/lib/python3.7/site-packages/xgboost/sklearn.py:797: UserWarning: `early_stopping_rounds` in `fit` method is deprecated for better compatibility with scikit-learn, use `early_stopping_rounds` in constructor or`set_params` instead.\n",
      "  UserWarning,\n"
     ]
    },
    {
     "name": "stdout",
     "output_type": "stream",
     "text": [
      "Mean Absolute Error: 20487.370237585616\n"
     ]
    },
    {
     "data": {
      "application/javascript": [
       "parent.postMessage({\"jupyterEvent\": \"custom.exercise_interaction\", \"data\": {\"outcomeType\": 1, \"valueTowardsCompletion\": 0.5, \"interactionType\": 1, \"questionType\": 2, \"questionId\": \"3_Model3\", \"learnToolsVersion\": \"0.3.4\", \"failureMessage\": \"\", \"exceptionClass\": \"\", \"trace\": \"\"}}, \"*\")"
      ],
      "text/plain": [
       "<IPython.core.display.Javascript object>"
      ]
     },
     "metadata": {},
     "output_type": "display_data"
    },
    {
     "data": {
      "text/markdown": [
       "<span style=\"color:#33cc33\">Correct</span>"
      ],
      "text/plain": [
       "Correct"
      ]
     },
     "metadata": {},
     "output_type": "display_data"
    }
   ],
   "source": [
    "# Define the model\n",
    "my_model_3 = XGBRegressor(n_estimators = 1000, learning_rate = 0.5)\n",
    "\n",
    "# Fit the model\n",
    "____ # Your code here\n",
    "my_model_3.fit(X_train,y_train,\n",
    "               early_stopping_rounds =5,\n",
    "               eval_set = [(X_valid,y_valid)],\n",
    "               verbose = False)\n",
    "\n",
    "# Get predictions\n",
    "predictions_3 = my_model_3.predict(X_valid)\n",
    "\n",
    "# Calculate MAE\n",
    "mae_3 = mean_absolute_error(predictions_3,y_valid)\n",
    "\n",
    "# Uncomment to print MAE\n",
    "print(\"Mean Absolute Error:\" , mae_3)\n",
    "\n",
    "# Check your answer\n",
    "step_3.check()"
   ]
  },
  {
   "cell_type": "code",
   "execution_count": 12,
   "id": "67891783",
   "metadata": {
    "execution": {
     "iopub.execute_input": "2022-05-29T12:28:21.600733Z",
     "iopub.status.busy": "2022-05-29T12:28:21.600350Z",
     "iopub.status.idle": "2022-05-29T12:28:21.604191Z",
     "shell.execute_reply": "2022-05-29T12:28:21.603255Z"
    },
    "papermill": {
     "duration": 0.014309,
     "end_time": "2022-05-29T12:28:21.606258",
     "exception": false,
     "start_time": "2022-05-29T12:28:21.591949",
     "status": "completed"
    },
    "tags": []
   },
   "outputs": [],
   "source": [
    "# Lines below will give you a hint or solution code\n",
    "#step_3.hint()\n",
    "#step_3.solution()"
   ]
  },
  {
   "cell_type": "markdown",
   "id": "306f863b",
   "metadata": {
    "papermill": {
     "duration": 0.007126,
     "end_time": "2022-05-29T12:28:21.621000",
     "exception": false,
     "start_time": "2022-05-29T12:28:21.613874",
     "status": "completed"
    },
    "tags": []
   },
   "source": [
    "# Keep going\n",
    "\n",
    "Continue to learn about **[data leakage](https://www.kaggle.com/alexisbcook/data-leakage)**.  This is an important issue for a data scientist to understand, and it has the potential to ruin your models in subtle and dangerous ways!"
   ]
  },
  {
   "cell_type": "markdown",
   "id": "aed98986",
   "metadata": {
    "papermill": {
     "duration": 0.007067,
     "end_time": "2022-05-29T12:28:21.635520",
     "exception": false,
     "start_time": "2022-05-29T12:28:21.628453",
     "status": "completed"
    },
    "tags": []
   },
   "source": [
    "---\n",
    "\n",
    "\n",
    "\n",
    "\n",
    "*Have questions or comments? Visit the [course discussion forum](https://www.kaggle.com/learn/intermediate-machine-learning/discussion) to chat with other learners.*"
   ]
  }
 ],
 "metadata": {
  "kernelspec": {
   "display_name": "Python 3",
   "language": "python",
   "name": "python3"
  },
  "language_info": {
   "codemirror_mode": {
    "name": "ipython",
    "version": 3
   },
   "file_extension": ".py",
   "mimetype": "text/x-python",
   "name": "python",
   "nbconvert_exporter": "python",
   "pygments_lexer": "ipython3",
   "version": "3.7.12"
  },
  "papermill": {
   "default_parameters": {},
   "duration": 16.987253,
   "end_time": "2022-05-29T12:28:22.363960",
   "environment_variables": {},
   "exception": null,
   "input_path": "__notebook__.ipynb",
   "output_path": "__notebook__.ipynb",
   "parameters": {},
   "start_time": "2022-05-29T12:28:05.376707",
   "version": "2.3.4"
  }
 },
 "nbformat": 4,
 "nbformat_minor": 5
}
