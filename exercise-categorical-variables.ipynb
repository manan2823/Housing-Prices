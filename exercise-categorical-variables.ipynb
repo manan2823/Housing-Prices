{
 "cells": [
  {
   "cell_type": "markdown",
   "id": "dd33f74e",
   "metadata": {
    "papermill": {
     "duration": 0.039562,
     "end_time": "2022-05-18T08:12:32.563624",
     "exception": false,
     "start_time": "2022-05-18T08:12:32.524062",
     "status": "completed"
    },
    "tags": []
   },
   "source": [
    "**This notebook is an exercise in the [Intermediate Machine Learning](https://www.kaggle.com/learn/intermediate-machine-learning) course.  You can reference the tutorial at [this link](https://www.kaggle.com/alexisbcook/categorical-variables).**\n",
    "\n",
    "---\n"
   ]
  },
  {
   "cell_type": "markdown",
   "id": "2af504ab",
   "metadata": {
    "papermill": {
     "duration": 0.037512,
     "end_time": "2022-05-18T08:12:32.640133",
     "exception": false,
     "start_time": "2022-05-18T08:12:32.602621",
     "status": "completed"
    },
    "tags": []
   },
   "source": [
    "By encoding **categorical variables**, you'll obtain your best results thus far!\n",
    "\n",
    "# Setup\n",
    "\n",
    "The questions below will give you feedback on your work. Run the following cell to set up the feedback system."
   ]
  },
  {
   "cell_type": "code",
   "execution_count": 1,
   "id": "7230ec71",
   "metadata": {
    "execution": {
     "iopub.execute_input": "2022-05-18T08:12:32.717736Z",
     "iopub.status.busy": "2022-05-18T08:12:32.717398Z",
     "iopub.status.idle": "2022-05-18T08:12:32.765503Z",
     "shell.execute_reply": "2022-05-18T08:12:32.764514Z"
    },
    "papermill": {
     "duration": 0.090203,
     "end_time": "2022-05-18T08:12:32.768358",
     "exception": false,
     "start_time": "2022-05-18T08:12:32.678155",
     "status": "completed"
    },
    "tags": []
   },
   "outputs": [
    {
     "name": "stdout",
     "output_type": "stream",
     "text": [
      "Setup Complete\n"
     ]
    }
   ],
   "source": [
    "# Set up code checking\n",
    "import os\n",
    "if not os.path.exists(\"../input/train.csv\"):\n",
    "    os.symlink(\"../input/home-data-for-ml-course/train.csv\", \"../input/train.csv\")  \n",
    "    os.symlink(\"../input/home-data-for-ml-course/test.csv\", \"../input/test.csv\") \n",
    "from learntools.core import binder\n",
    "binder.bind(globals())\n",
    "from learntools.ml_intermediate.ex3 import *\n",
    "print(\"Setup Complete\")"
   ]
  },
  {
   "cell_type": "markdown",
   "id": "073157ae",
   "metadata": {
    "papermill": {
     "duration": 0.03792,
     "end_time": "2022-05-18T08:12:32.847167",
     "exception": false,
     "start_time": "2022-05-18T08:12:32.809247",
     "status": "completed"
    },
    "tags": []
   },
   "source": [
    "In this exercise, you will work with data from the [Housing Prices Competition for Kaggle Learn Users](https://www.kaggle.com/c/home-data-for-ml-course). \n",
    "\n",
    "![Ames Housing dataset image](https://i.imgur.com/lTJVG4e.png)\n",
    "\n",
    "Run the next code cell without changes to load the training and validation sets in `X_train`, `X_valid`, `y_train`, and `y_valid`.  The test set is loaded in `X_test`."
   ]
  },
  {
   "cell_type": "code",
   "execution_count": 2,
   "id": "d56a2a8c",
   "metadata": {
    "execution": {
     "iopub.execute_input": "2022-05-18T08:12:32.928169Z",
     "iopub.status.busy": "2022-05-18T08:12:32.927597Z",
     "iopub.status.idle": "2022-05-18T08:12:34.206213Z",
     "shell.execute_reply": "2022-05-18T08:12:34.205305Z"
    },
    "papermill": {
     "duration": 1.322158,
     "end_time": "2022-05-18T08:12:34.208794",
     "exception": false,
     "start_time": "2022-05-18T08:12:32.886636",
     "status": "completed"
    },
    "tags": []
   },
   "outputs": [],
   "source": [
    "import pandas as pd\n",
    "from sklearn.model_selection import train_test_split\n",
    "\n",
    "# Read the data\n",
    "X = pd.read_csv('../input/train.csv', index_col='Id') \n",
    "X_test = pd.read_csv('../input/test.csv', index_col='Id')\n",
    "\n",
    "# Remove rows with missing target, separate target from predictors\n",
    "X.dropna(axis=0, subset=['SalePrice'], inplace=True)\n",
    "y = X.SalePrice\n",
    "X.drop(['SalePrice'], axis=1, inplace=True)\n",
    "\n",
    "# To keep things simple, we'll drop columns with missing values\n",
    "cols_with_missing = [col for col in X.columns if X[col].isnull().any()] \n",
    "X.drop(cols_with_missing, axis=1, inplace=True)\n",
    "X_test.drop(cols_with_missing, axis=1, inplace=True)\n",
    "\n",
    "# Break off validation set from training data\n",
    "X_train, X_valid, y_train, y_valid = train_test_split(X, y,\n",
    "                                                      train_size=0.8, test_size=0.2,\n",
    "                                                      random_state=0)"
   ]
  },
  {
   "cell_type": "markdown",
   "id": "7541ca88",
   "metadata": {
    "papermill": {
     "duration": 0.038365,
     "end_time": "2022-05-18T08:12:34.286095",
     "exception": false,
     "start_time": "2022-05-18T08:12:34.247730",
     "status": "completed"
    },
    "tags": []
   },
   "source": [
    "Use the next code cell to print the first five rows of the data."
   ]
  },
  {
   "cell_type": "code",
   "execution_count": 3,
   "id": "eb750fa2",
   "metadata": {
    "execution": {
     "iopub.execute_input": "2022-05-18T08:12:34.366155Z",
     "iopub.status.busy": "2022-05-18T08:12:34.365844Z",
     "iopub.status.idle": "2022-05-18T08:12:34.397388Z",
     "shell.execute_reply": "2022-05-18T08:12:34.396374Z"
    },
    "papermill": {
     "duration": 0.074811,
     "end_time": "2022-05-18T08:12:34.399390",
     "exception": false,
     "start_time": "2022-05-18T08:12:34.324579",
     "status": "completed"
    },
    "tags": []
   },
   "outputs": [
    {
     "data": {
      "text/html": [
       "<div>\n",
       "<style scoped>\n",
       "    .dataframe tbody tr th:only-of-type {\n",
       "        vertical-align: middle;\n",
       "    }\n",
       "\n",
       "    .dataframe tbody tr th {\n",
       "        vertical-align: top;\n",
       "    }\n",
       "\n",
       "    .dataframe thead th {\n",
       "        text-align: right;\n",
       "    }\n",
       "</style>\n",
       "<table border=\"1\" class=\"dataframe\">\n",
       "  <thead>\n",
       "    <tr style=\"text-align: right;\">\n",
       "      <th></th>\n",
       "      <th>MSSubClass</th>\n",
       "      <th>MSZoning</th>\n",
       "      <th>LotArea</th>\n",
       "      <th>Street</th>\n",
       "      <th>LotShape</th>\n",
       "      <th>LandContour</th>\n",
       "      <th>Utilities</th>\n",
       "      <th>LotConfig</th>\n",
       "      <th>LandSlope</th>\n",
       "      <th>Neighborhood</th>\n",
       "      <th>...</th>\n",
       "      <th>OpenPorchSF</th>\n",
       "      <th>EnclosedPorch</th>\n",
       "      <th>3SsnPorch</th>\n",
       "      <th>ScreenPorch</th>\n",
       "      <th>PoolArea</th>\n",
       "      <th>MiscVal</th>\n",
       "      <th>MoSold</th>\n",
       "      <th>YrSold</th>\n",
       "      <th>SaleType</th>\n",
       "      <th>SaleCondition</th>\n",
       "    </tr>\n",
       "    <tr>\n",
       "      <th>Id</th>\n",
       "      <th></th>\n",
       "      <th></th>\n",
       "      <th></th>\n",
       "      <th></th>\n",
       "      <th></th>\n",
       "      <th></th>\n",
       "      <th></th>\n",
       "      <th></th>\n",
       "      <th></th>\n",
       "      <th></th>\n",
       "      <th></th>\n",
       "      <th></th>\n",
       "      <th></th>\n",
       "      <th></th>\n",
       "      <th></th>\n",
       "      <th></th>\n",
       "      <th></th>\n",
       "      <th></th>\n",
       "      <th></th>\n",
       "      <th></th>\n",
       "      <th></th>\n",
       "    </tr>\n",
       "  </thead>\n",
       "  <tbody>\n",
       "    <tr>\n",
       "      <th>619</th>\n",
       "      <td>20</td>\n",
       "      <td>RL</td>\n",
       "      <td>11694</td>\n",
       "      <td>Pave</td>\n",
       "      <td>Reg</td>\n",
       "      <td>Lvl</td>\n",
       "      <td>AllPub</td>\n",
       "      <td>Inside</td>\n",
       "      <td>Gtl</td>\n",
       "      <td>NridgHt</td>\n",
       "      <td>...</td>\n",
       "      <td>108</td>\n",
       "      <td>0</td>\n",
       "      <td>0</td>\n",
       "      <td>260</td>\n",
       "      <td>0</td>\n",
       "      <td>0</td>\n",
       "      <td>7</td>\n",
       "      <td>2007</td>\n",
       "      <td>New</td>\n",
       "      <td>Partial</td>\n",
       "    </tr>\n",
       "    <tr>\n",
       "      <th>871</th>\n",
       "      <td>20</td>\n",
       "      <td>RL</td>\n",
       "      <td>6600</td>\n",
       "      <td>Pave</td>\n",
       "      <td>Reg</td>\n",
       "      <td>Lvl</td>\n",
       "      <td>AllPub</td>\n",
       "      <td>Inside</td>\n",
       "      <td>Gtl</td>\n",
       "      <td>NAmes</td>\n",
       "      <td>...</td>\n",
       "      <td>0</td>\n",
       "      <td>0</td>\n",
       "      <td>0</td>\n",
       "      <td>0</td>\n",
       "      <td>0</td>\n",
       "      <td>0</td>\n",
       "      <td>8</td>\n",
       "      <td>2009</td>\n",
       "      <td>WD</td>\n",
       "      <td>Normal</td>\n",
       "    </tr>\n",
       "    <tr>\n",
       "      <th>93</th>\n",
       "      <td>30</td>\n",
       "      <td>RL</td>\n",
       "      <td>13360</td>\n",
       "      <td>Pave</td>\n",
       "      <td>IR1</td>\n",
       "      <td>HLS</td>\n",
       "      <td>AllPub</td>\n",
       "      <td>Inside</td>\n",
       "      <td>Gtl</td>\n",
       "      <td>Crawfor</td>\n",
       "      <td>...</td>\n",
       "      <td>0</td>\n",
       "      <td>44</td>\n",
       "      <td>0</td>\n",
       "      <td>0</td>\n",
       "      <td>0</td>\n",
       "      <td>0</td>\n",
       "      <td>8</td>\n",
       "      <td>2009</td>\n",
       "      <td>WD</td>\n",
       "      <td>Normal</td>\n",
       "    </tr>\n",
       "    <tr>\n",
       "      <th>818</th>\n",
       "      <td>20</td>\n",
       "      <td>RL</td>\n",
       "      <td>13265</td>\n",
       "      <td>Pave</td>\n",
       "      <td>IR1</td>\n",
       "      <td>Lvl</td>\n",
       "      <td>AllPub</td>\n",
       "      <td>CulDSac</td>\n",
       "      <td>Gtl</td>\n",
       "      <td>Mitchel</td>\n",
       "      <td>...</td>\n",
       "      <td>59</td>\n",
       "      <td>0</td>\n",
       "      <td>0</td>\n",
       "      <td>0</td>\n",
       "      <td>0</td>\n",
       "      <td>0</td>\n",
       "      <td>7</td>\n",
       "      <td>2008</td>\n",
       "      <td>WD</td>\n",
       "      <td>Normal</td>\n",
       "    </tr>\n",
       "    <tr>\n",
       "      <th>303</th>\n",
       "      <td>20</td>\n",
       "      <td>RL</td>\n",
       "      <td>13704</td>\n",
       "      <td>Pave</td>\n",
       "      <td>IR1</td>\n",
       "      <td>Lvl</td>\n",
       "      <td>AllPub</td>\n",
       "      <td>Corner</td>\n",
       "      <td>Gtl</td>\n",
       "      <td>CollgCr</td>\n",
       "      <td>...</td>\n",
       "      <td>81</td>\n",
       "      <td>0</td>\n",
       "      <td>0</td>\n",
       "      <td>0</td>\n",
       "      <td>0</td>\n",
       "      <td>0</td>\n",
       "      <td>1</td>\n",
       "      <td>2006</td>\n",
       "      <td>WD</td>\n",
       "      <td>Normal</td>\n",
       "    </tr>\n",
       "  </tbody>\n",
       "</table>\n",
       "<p>5 rows × 60 columns</p>\n",
       "</div>"
      ],
      "text/plain": [
       "     MSSubClass MSZoning  LotArea Street LotShape LandContour Utilities  \\\n",
       "Id                                                                        \n",
       "619          20       RL    11694   Pave      Reg         Lvl    AllPub   \n",
       "871          20       RL     6600   Pave      Reg         Lvl    AllPub   \n",
       "93           30       RL    13360   Pave      IR1         HLS    AllPub   \n",
       "818          20       RL    13265   Pave      IR1         Lvl    AllPub   \n",
       "303          20       RL    13704   Pave      IR1         Lvl    AllPub   \n",
       "\n",
       "    LotConfig LandSlope Neighborhood  ... OpenPorchSF EnclosedPorch 3SsnPorch  \\\n",
       "Id                                    ...                                       \n",
       "619    Inside       Gtl      NridgHt  ...         108             0         0   \n",
       "871    Inside       Gtl        NAmes  ...           0             0         0   \n",
       "93     Inside       Gtl      Crawfor  ...           0            44         0   \n",
       "818   CulDSac       Gtl      Mitchel  ...          59             0         0   \n",
       "303    Corner       Gtl      CollgCr  ...          81             0         0   \n",
       "\n",
       "    ScreenPorch  PoolArea  MiscVal  MoSold  YrSold SaleType SaleCondition  \n",
       "Id                                                                         \n",
       "619         260         0        0       7    2007      New       Partial  \n",
       "871           0         0        0       8    2009       WD        Normal  \n",
       "93            0         0        0       8    2009       WD        Normal  \n",
       "818           0         0        0       7    2008       WD        Normal  \n",
       "303           0         0        0       1    2006       WD        Normal  \n",
       "\n",
       "[5 rows x 60 columns]"
      ]
     },
     "execution_count": 3,
     "metadata": {},
     "output_type": "execute_result"
    }
   ],
   "source": [
    "X_train.head()"
   ]
  },
  {
   "cell_type": "markdown",
   "id": "17c8f56d",
   "metadata": {
    "papermill": {
     "duration": 0.038706,
     "end_time": "2022-05-18T08:12:34.477025",
     "exception": false,
     "start_time": "2022-05-18T08:12:34.438319",
     "status": "completed"
    },
    "tags": []
   },
   "source": [
    "Notice that the dataset contains both numerical and categorical variables.  You'll need to encode the categorical data before training a model.\n",
    "\n",
    "To compare different models, you'll use the same `score_dataset()` function from the tutorial.  This function reports the [mean absolute error](https://en.wikipedia.org/wiki/Mean_absolute_error) (MAE) from a random forest model."
   ]
  },
  {
   "cell_type": "code",
   "execution_count": 4,
   "id": "6b501036",
   "metadata": {
    "execution": {
     "iopub.execute_input": "2022-05-18T08:12:34.557629Z",
     "iopub.status.busy": "2022-05-18T08:12:34.557346Z",
     "iopub.status.idle": "2022-05-18T08:12:34.792673Z",
     "shell.execute_reply": "2022-05-18T08:12:34.791720Z"
    },
    "papermill": {
     "duration": 0.2793,
     "end_time": "2022-05-18T08:12:34.795216",
     "exception": false,
     "start_time": "2022-05-18T08:12:34.515916",
     "status": "completed"
    },
    "tags": []
   },
   "outputs": [],
   "source": [
    "from sklearn.ensemble import RandomForestRegressor\n",
    "from sklearn.metrics import mean_absolute_error\n",
    "\n",
    "# function for comparing different approaches\n",
    "def score_dataset(X_train, X_valid, y_train, y_valid):\n",
    "    model = RandomForestRegressor(n_estimators=100, random_state=0)\n",
    "    model.fit(X_train, y_train)\n",
    "    preds = model.predict(X_valid)\n",
    "    return mean_absolute_error(y_valid, preds)"
   ]
  },
  {
   "cell_type": "markdown",
   "id": "ccebba6c",
   "metadata": {
    "papermill": {
     "duration": 0.03842,
     "end_time": "2022-05-18T08:12:34.872584",
     "exception": false,
     "start_time": "2022-05-18T08:12:34.834164",
     "status": "completed"
    },
    "tags": []
   },
   "source": [
    "# Step 1: Drop columns with categorical data\n",
    "\n",
    "You'll get started with the most straightforward approach.  Use the code cell below to preprocess the data in `X_train` and `X_valid` to remove columns with categorical data.  Set the preprocessed DataFrames to `drop_X_train` and `drop_X_valid`, respectively.  "
   ]
  },
  {
   "cell_type": "code",
   "execution_count": 5,
   "id": "cd1520fe",
   "metadata": {
    "execution": {
     "iopub.execute_input": "2022-05-18T08:12:34.955379Z",
     "iopub.status.busy": "2022-05-18T08:12:34.955060Z",
     "iopub.status.idle": "2022-05-18T08:12:34.965869Z",
     "shell.execute_reply": "2022-05-18T08:12:34.965333Z"
    },
    "papermill": {
     "duration": 0.056048,
     "end_time": "2022-05-18T08:12:34.967658",
     "exception": false,
     "start_time": "2022-05-18T08:12:34.911610",
     "status": "completed"
    },
    "tags": []
   },
   "outputs": [
    {
     "data": {
      "application/javascript": [
       "parent.postMessage({\"jupyterEvent\": \"custom.exercise_interaction\", \"data\": {\"outcomeType\": 1, \"valueTowardsCompletion\": 0.5, \"interactionType\": 1, \"questionType\": 2, \"questionId\": \"1_Drop\", \"learnToolsVersion\": \"0.3.4\", \"failureMessage\": \"\", \"exceptionClass\": \"\", \"trace\": \"\"}}, \"*\")"
      ],
      "text/plain": [
       "<IPython.core.display.Javascript object>"
      ]
     },
     "metadata": {},
     "output_type": "display_data"
    },
    {
     "data": {
      "text/markdown": [
       "<span style=\"color:#33cc33\">Correct</span>"
      ],
      "text/plain": [
       "Correct"
      ]
     },
     "metadata": {},
     "output_type": "display_data"
    }
   ],
   "source": [
    "# Fill in the lines below: drop columns in training and validation data\n",
    "drop_X_train = X_train.select_dtypes(exclude=['object'])\n",
    "drop_X_valid = X_valid.select_dtypes(exclude=['object'])\n",
    "\n",
    "# Check your answers\n",
    "step_1.check()"
   ]
  },
  {
   "cell_type": "code",
   "execution_count": 6,
   "id": "7fadaabb",
   "metadata": {
    "execution": {
     "iopub.execute_input": "2022-05-18T08:12:35.050678Z",
     "iopub.status.busy": "2022-05-18T08:12:35.050210Z",
     "iopub.status.idle": "2022-05-18T08:12:35.053173Z",
     "shell.execute_reply": "2022-05-18T08:12:35.052550Z"
    },
    "papermill": {
     "duration": 0.047172,
     "end_time": "2022-05-18T08:12:35.055179",
     "exception": false,
     "start_time": "2022-05-18T08:12:35.008007",
     "status": "completed"
    },
    "tags": []
   },
   "outputs": [],
   "source": [
    "# Lines below will give you a hint or solution code\n",
    "#step_1.hint()\n",
    "#step_1.solution()"
   ]
  },
  {
   "cell_type": "markdown",
   "id": "2fa394d2",
   "metadata": {
    "papermill": {
     "duration": 0.040648,
     "end_time": "2022-05-18T08:12:35.136405",
     "exception": false,
     "start_time": "2022-05-18T08:12:35.095757",
     "status": "completed"
    },
    "tags": []
   },
   "source": [
    "Run the next code cell to get the MAE for this approach."
   ]
  },
  {
   "cell_type": "code",
   "execution_count": 7,
   "id": "12e75b0d",
   "metadata": {
    "execution": {
     "iopub.execute_input": "2022-05-18T08:12:35.218468Z",
     "iopub.status.busy": "2022-05-18T08:12:35.218138Z",
     "iopub.status.idle": "2022-05-18T08:12:36.370400Z",
     "shell.execute_reply": "2022-05-18T08:12:36.369451Z"
    },
    "papermill": {
     "duration": 1.19719,
     "end_time": "2022-05-18T08:12:36.373974",
     "exception": false,
     "start_time": "2022-05-18T08:12:35.176784",
     "status": "completed"
    },
    "tags": []
   },
   "outputs": [
    {
     "name": "stdout",
     "output_type": "stream",
     "text": [
      "MAE from Approach 1 (Drop categorical variables):\n",
      "17837.82570776256\n"
     ]
    }
   ],
   "source": [
    "print(\"MAE from Approach 1 (Drop categorical variables):\")\n",
    "print(score_dataset(drop_X_train, drop_X_valid, y_train, y_valid))"
   ]
  },
  {
   "cell_type": "markdown",
   "id": "38b70618",
   "metadata": {
    "papermill": {
     "duration": 0.041547,
     "end_time": "2022-05-18T08:12:36.459054",
     "exception": false,
     "start_time": "2022-05-18T08:12:36.417507",
     "status": "completed"
    },
    "tags": []
   },
   "source": [
    "Before jumping into ordinal encoding, we'll investigate the dataset.  Specifically, we'll look at the `'Condition2'` column.  The code cell below prints the unique entries in both the training and validation sets."
   ]
  },
  {
   "cell_type": "code",
   "execution_count": 8,
   "id": "d2c7925b",
   "metadata": {
    "execution": {
     "iopub.execute_input": "2022-05-18T08:12:36.543501Z",
     "iopub.status.busy": "2022-05-18T08:12:36.543009Z",
     "iopub.status.idle": "2022-05-18T08:12:36.550436Z",
     "shell.execute_reply": "2022-05-18T08:12:36.549176Z"
    },
    "papermill": {
     "duration": 0.05248,
     "end_time": "2022-05-18T08:12:36.552771",
     "exception": false,
     "start_time": "2022-05-18T08:12:36.500291",
     "status": "completed"
    },
    "tags": []
   },
   "outputs": [
    {
     "name": "stdout",
     "output_type": "stream",
     "text": [
      "Unique values in 'Condition2' column in training data: ['Norm' 'PosA' 'Feedr' 'PosN' 'Artery' 'RRAe']\n",
      "\n",
      "Unique values in 'Condition2' column in validation data: ['Norm' 'RRAn' 'RRNn' 'Artery' 'Feedr' 'PosN']\n"
     ]
    }
   ],
   "source": [
    "print(\"Unique values in 'Condition2' column in training data:\", X_train['Condition2'].unique())\n",
    "print(\"\\nUnique values in 'Condition2' column in validation data:\", X_valid['Condition2'].unique())"
   ]
  },
  {
   "cell_type": "markdown",
   "id": "b218f22a",
   "metadata": {
    "papermill": {
     "duration": 0.042116,
     "end_time": "2022-05-18T08:12:36.637107",
     "exception": false,
     "start_time": "2022-05-18T08:12:36.594991",
     "status": "completed"
    },
    "tags": []
   },
   "source": [
    "# Step 2: Ordinal encoding\n",
    "\n",
    "### Part A\n",
    "\n",
    "If you now write code to: \n",
    "- fit an ordinal encoder to the training data, and then \n",
    "- use it to transform both the training and validation data, \n",
    "\n",
    "you'll get an error.  Can you see why this is the case?  (_You'll need  to use the above output to answer this question._)"
   ]
  },
  {
   "cell_type": "code",
   "execution_count": 9,
   "id": "b7a17753",
   "metadata": {
    "execution": {
     "iopub.execute_input": "2022-05-18T08:12:36.722363Z",
     "iopub.status.busy": "2022-05-18T08:12:36.721433Z",
     "iopub.status.idle": "2022-05-18T08:12:36.730566Z",
     "shell.execute_reply": "2022-05-18T08:12:36.729583Z"
    },
    "papermill": {
     "duration": 0.054244,
     "end_time": "2022-05-18T08:12:36.732606",
     "exception": false,
     "start_time": "2022-05-18T08:12:36.678362",
     "status": "completed"
    },
    "tags": []
   },
   "outputs": [
    {
     "data": {
      "application/javascript": [
       "parent.postMessage({\"jupyterEvent\": \"custom.exercise_interaction\", \"data\": {\"outcomeType\": 1, \"valueTowardsCompletion\": 0.5, \"interactionType\": 1, \"questionType\": 4, \"questionId\": \"2.1_LabelA\", \"learnToolsVersion\": \"0.3.4\", \"failureMessage\": \"\", \"exceptionClass\": \"\", \"trace\": \"\"}}, \"*\")"
      ],
      "text/plain": [
       "<IPython.core.display.Javascript object>"
      ]
     },
     "metadata": {},
     "output_type": "display_data"
    },
    {
     "data": {
      "text/markdown": [
       "<span style=\"color:#33cc33\">Correct:</span> \n",
       "\n",
       "Fitting an ordinal encoder to a column in the training data creates a corresponding integer-valued label for each unique value **that appears in the training data**. In the case that the validation data contains values that don't also appear in the training data, the encoder will throw an error, because these values won't have an integer assigned to them.  Notice that the `'Condition2'` column in the validation data contains the values `'RRAn'` and `'RRNn'`, but these don't appear in the training data -- thus, if we try to use an ordinal encoder with scikit-learn, the code will throw an error."
      ],
      "text/plain": [
       "Correct: \n",
       "\n",
       "Fitting an ordinal encoder to a column in the training data creates a corresponding integer-valued label for each unique value **that appears in the training data**. In the case that the validation data contains values that don't also appear in the training data, the encoder will throw an error, because these values won't have an integer assigned to them.  Notice that the `'Condition2'` column in the validation data contains the values `'RRAn'` and `'RRNn'`, but these don't appear in the training data -- thus, if we try to use an ordinal encoder with scikit-learn, the code will throw an error."
      ]
     },
     "metadata": {},
     "output_type": "display_data"
    }
   ],
   "source": [
    "# Check your answer (Run this code cell to receive credit!)\n",
    "step_2.a.check()"
   ]
  },
  {
   "cell_type": "code",
   "execution_count": 10,
   "id": "238d5da7",
   "metadata": {
    "execution": {
     "iopub.execute_input": "2022-05-18T08:12:36.820171Z",
     "iopub.status.busy": "2022-05-18T08:12:36.819738Z",
     "iopub.status.idle": "2022-05-18T08:12:36.823345Z",
     "shell.execute_reply": "2022-05-18T08:12:36.822691Z"
    },
    "papermill": {
     "duration": 0.049594,
     "end_time": "2022-05-18T08:12:36.825322",
     "exception": false,
     "start_time": "2022-05-18T08:12:36.775728",
     "status": "completed"
    },
    "tags": []
   },
   "outputs": [],
   "source": [
    "#step_2.a.hint()"
   ]
  },
  {
   "cell_type": "markdown",
   "id": "ad168722",
   "metadata": {
    "papermill": {
     "duration": 0.04216,
     "end_time": "2022-05-18T08:12:36.909609",
     "exception": false,
     "start_time": "2022-05-18T08:12:36.867449",
     "status": "completed"
    },
    "tags": []
   },
   "source": [
    "This is a common problem that you'll encounter with real-world data, and there are many approaches to fixing this issue.  For instance, you can write a custom ordinal encoder to deal with new categories.  The simplest approach, however, is to drop the problematic categorical columns.  \n",
    "\n",
    "Run the code cell below to save the problematic columns to a Python list `bad_label_cols`.  Likewise, columns that can be safely ordinal encoded are stored in `good_label_cols`."
   ]
  },
  {
   "cell_type": "code",
   "execution_count": 11,
   "id": "09f742f4",
   "metadata": {
    "execution": {
     "iopub.execute_input": "2022-05-18T08:12:36.997632Z",
     "iopub.status.busy": "2022-05-18T08:12:36.997168Z",
     "iopub.status.idle": "2022-05-18T08:12:37.014429Z",
     "shell.execute_reply": "2022-05-18T08:12:37.013384Z"
    },
    "papermill": {
     "duration": 0.064525,
     "end_time": "2022-05-18T08:12:37.017129",
     "exception": false,
     "start_time": "2022-05-18T08:12:36.952604",
     "status": "completed"
    },
    "tags": []
   },
   "outputs": [
    {
     "name": "stdout",
     "output_type": "stream",
     "text": [
      "Categorical columns that will be ordinal encoded: ['MSZoning', 'Street', 'LotShape', 'LandContour', 'Utilities', 'LotConfig', 'LandSlope', 'Neighborhood', 'Condition1', 'BldgType', 'HouseStyle', 'RoofStyle', 'Exterior1st', 'Exterior2nd', 'ExterQual', 'ExterCond', 'Foundation', 'Heating', 'HeatingQC', 'CentralAir', 'KitchenQual', 'PavedDrive', 'SaleType', 'SaleCondition']\n",
      "\n",
      "Categorical columns that will be dropped from the dataset: ['Condition2', 'Functional', 'RoofMatl']\n"
     ]
    }
   ],
   "source": [
    "# Categorical columns in the training data\n",
    "object_cols = [col for col in X_train.columns if X_train[col].dtype == \"object\"]\n",
    "\n",
    "# Columns that can be safely ordinal encoded\n",
    "good_label_cols = [col for col in object_cols if \n",
    "                   set(X_valid[col]).issubset(set(X_train[col]))]\n",
    "        \n",
    "# Problematic columns that will be dropped from the dataset\n",
    "bad_label_cols = list(set(object_cols)-set(good_label_cols))\n",
    "        \n",
    "print('Categorical columns that will be ordinal encoded:', good_label_cols)\n",
    "print('\\nCategorical columns that will be dropped from the dataset:', bad_label_cols)"
   ]
  },
  {
   "cell_type": "markdown",
   "id": "fdb04447",
   "metadata": {
    "papermill": {
     "duration": 0.042739,
     "end_time": "2022-05-18T08:12:37.104279",
     "exception": false,
     "start_time": "2022-05-18T08:12:37.061540",
     "status": "completed"
    },
    "tags": []
   },
   "source": [
    "### Part B\n",
    "\n",
    "Use the next code cell to ordinal encode the data in `X_train` and `X_valid`.  Set the preprocessed DataFrames to `label_X_train` and `label_X_valid`, respectively.  \n",
    "- We have provided code below to drop the categorical columns in `bad_label_cols` from the dataset. \n",
    "- You should ordinal encode the categorical columns in `good_label_cols`.  "
   ]
  },
  {
   "cell_type": "code",
   "execution_count": 12,
   "id": "ce9a487c",
   "metadata": {
    "execution": {
     "iopub.execute_input": "2022-05-18T08:12:37.192366Z",
     "iopub.status.busy": "2022-05-18T08:12:37.191778Z",
     "iopub.status.idle": "2022-05-18T08:12:37.236493Z",
     "shell.execute_reply": "2022-05-18T08:12:37.235585Z"
    },
    "papermill": {
     "duration": 0.0915,
     "end_time": "2022-05-18T08:12:37.238714",
     "exception": false,
     "start_time": "2022-05-18T08:12:37.147214",
     "status": "completed"
    },
    "tags": []
   },
   "outputs": [
    {
     "data": {
      "application/javascript": [
       "parent.postMessage({\"jupyterEvent\": \"custom.exercise_interaction\", \"data\": {\"outcomeType\": 1, \"valueTowardsCompletion\": 0.5, \"interactionType\": 1, \"questionType\": 2, \"questionId\": \"2.2_LabelB\", \"learnToolsVersion\": \"0.3.4\", \"failureMessage\": \"\", \"exceptionClass\": \"\", \"trace\": \"\"}}, \"*\")"
      ],
      "text/plain": [
       "<IPython.core.display.Javascript object>"
      ]
     },
     "metadata": {},
     "output_type": "display_data"
    },
    {
     "data": {
      "text/markdown": [
       "<span style=\"color:#33cc33\">Correct</span>"
      ],
      "text/plain": [
       "Correct"
      ]
     },
     "metadata": {},
     "output_type": "display_data"
    }
   ],
   "source": [
    "from sklearn.preprocessing import OrdinalEncoder\n",
    "\n",
    "# Drop categorical columns that will not be encoded\n",
    "label_X_train = X_train.drop(bad_label_cols, axis=1)\n",
    "label_X_valid = X_valid.drop(bad_label_cols, axis=1)\n",
    "\n",
    "# Apply ordinal encoder \n",
    "ordinal_encoder = OrdinalEncoder() \n",
    "label_X_train[good_label_cols] = ordinal_encoder.fit_transform(X_train[good_label_cols])\n",
    "label_X_valid[good_label_cols] = ordinal_encoder.transform(X_valid[good_label_cols])\n",
    "    \n",
    "# Check your answer\n",
    "step_2.b.check()"
   ]
  },
  {
   "cell_type": "code",
   "execution_count": 13,
   "id": "701d0317",
   "metadata": {
    "execution": {
     "iopub.execute_input": "2022-05-18T08:12:37.330296Z",
     "iopub.status.busy": "2022-05-18T08:12:37.329964Z",
     "iopub.status.idle": "2022-05-18T08:12:37.333990Z",
     "shell.execute_reply": "2022-05-18T08:12:37.333111Z"
    },
    "papermill": {
     "duration": 0.052674,
     "end_time": "2022-05-18T08:12:37.336163",
     "exception": false,
     "start_time": "2022-05-18T08:12:37.283489",
     "status": "completed"
    },
    "tags": []
   },
   "outputs": [],
   "source": [
    "# Lines below will give you a hint or solution code\n",
    "#step_2.b.hint()\n",
    "#step_2.b.solution()"
   ]
  },
  {
   "cell_type": "markdown",
   "id": "30bdd3bd",
   "metadata": {
    "papermill": {
     "duration": 0.043988,
     "end_time": "2022-05-18T08:12:37.424645",
     "exception": false,
     "start_time": "2022-05-18T08:12:37.380657",
     "status": "completed"
    },
    "tags": []
   },
   "source": [
    "Run the next code cell to get the MAE for this approach."
   ]
  },
  {
   "cell_type": "code",
   "execution_count": 14,
   "id": "372d79bd",
   "metadata": {
    "execution": {
     "iopub.execute_input": "2022-05-18T08:12:37.516620Z",
     "iopub.status.busy": "2022-05-18T08:12:37.515865Z",
     "iopub.status.idle": "2022-05-18T08:12:38.986264Z",
     "shell.execute_reply": "2022-05-18T08:12:38.985088Z"
    },
    "papermill": {
     "duration": 1.518469,
     "end_time": "2022-05-18T08:12:38.988619",
     "exception": false,
     "start_time": "2022-05-18T08:12:37.470150",
     "status": "completed"
    },
    "tags": []
   },
   "outputs": [
    {
     "name": "stdout",
     "output_type": "stream",
     "text": [
      "MAE from Approach 2 (Ordinal Encoding):\n",
      "17098.01649543379\n"
     ]
    }
   ],
   "source": [
    "print(\"MAE from Approach 2 (Ordinal Encoding):\") \n",
    "print(score_dataset(label_X_train, label_X_valid, y_train, y_valid))"
   ]
  },
  {
   "cell_type": "markdown",
   "id": "fff286ec",
   "metadata": {
    "papermill": {
     "duration": 0.058572,
     "end_time": "2022-05-18T08:12:39.096179",
     "exception": false,
     "start_time": "2022-05-18T08:12:39.037607",
     "status": "completed"
    },
    "tags": []
   },
   "source": [
    "So far, you've tried two different approaches to dealing with categorical variables.  And, you've seen that encoding categorical data yields better results than removing columns from the dataset.\n",
    "\n",
    "Soon, you'll try one-hot encoding.  Before then, there's one additional topic we need to cover.  Begin by running the next code cell without changes.  "
   ]
  },
  {
   "cell_type": "code",
   "execution_count": 15,
   "id": "e3155607",
   "metadata": {
    "execution": {
     "iopub.execute_input": "2022-05-18T08:12:39.198212Z",
     "iopub.status.busy": "2022-05-18T08:12:39.197524Z",
     "iopub.status.idle": "2022-05-18T08:12:39.215860Z",
     "shell.execute_reply": "2022-05-18T08:12:39.215081Z"
    },
    "papermill": {
     "duration": 0.069735,
     "end_time": "2022-05-18T08:12:39.217913",
     "exception": false,
     "start_time": "2022-05-18T08:12:39.148178",
     "status": "completed"
    },
    "tags": []
   },
   "outputs": [
    {
     "data": {
      "text/plain": [
       "[('Street', 2),\n",
       " ('Utilities', 2),\n",
       " ('CentralAir', 2),\n",
       " ('LandSlope', 3),\n",
       " ('PavedDrive', 3),\n",
       " ('LotShape', 4),\n",
       " ('LandContour', 4),\n",
       " ('ExterQual', 4),\n",
       " ('KitchenQual', 4),\n",
       " ('MSZoning', 5),\n",
       " ('LotConfig', 5),\n",
       " ('BldgType', 5),\n",
       " ('ExterCond', 5),\n",
       " ('HeatingQC', 5),\n",
       " ('Condition2', 6),\n",
       " ('RoofStyle', 6),\n",
       " ('Foundation', 6),\n",
       " ('Heating', 6),\n",
       " ('Functional', 6),\n",
       " ('SaleCondition', 6),\n",
       " ('RoofMatl', 7),\n",
       " ('HouseStyle', 8),\n",
       " ('Condition1', 9),\n",
       " ('SaleType', 9),\n",
       " ('Exterior1st', 15),\n",
       " ('Exterior2nd', 16),\n",
       " ('Neighborhood', 25)]"
      ]
     },
     "execution_count": 15,
     "metadata": {},
     "output_type": "execute_result"
    }
   ],
   "source": [
    "# Get number of unique entries in each column with categorical data\n",
    "object_nunique = list(map(lambda col: X_train[col].nunique(), object_cols))\n",
    "d = dict(zip(object_cols, object_nunique))\n",
    "\n",
    "# Print number of unique entries by column, in ascending order\n",
    "sorted(d.items(), key=lambda x: x[1])"
   ]
  },
  {
   "cell_type": "markdown",
   "id": "fe0af17b",
   "metadata": {
    "papermill": {
     "duration": 0.05287,
     "end_time": "2022-05-18T08:12:39.316983",
     "exception": false,
     "start_time": "2022-05-18T08:12:39.264113",
     "status": "completed"
    },
    "tags": []
   },
   "source": [
    "# Step 3: Investigating cardinality\n",
    "\n",
    "### Part A\n",
    "\n",
    "The output above shows, for each column with categorical data, the number of unique values in the column.  For instance, the `'Street'` column in the training data has two unique values: `'Grvl'` and `'Pave'`, corresponding to a gravel road and a paved road, respectively.\n",
    "\n",
    "We refer to the number of unique entries of a categorical variable as the **cardinality** of that categorical variable.  For instance, the `'Street'` variable has cardinality 2.\n",
    "\n",
    "Use the output above to answer the questions below."
   ]
  },
  {
   "cell_type": "code",
   "execution_count": 16,
   "id": "99aab38d",
   "metadata": {
    "execution": {
     "iopub.execute_input": "2022-05-18T08:12:39.413097Z",
     "iopub.status.busy": "2022-05-18T08:12:39.412381Z",
     "iopub.status.idle": "2022-05-18T08:12:39.421848Z",
     "shell.execute_reply": "2022-05-18T08:12:39.420884Z"
    },
    "papermill": {
     "duration": 0.060448,
     "end_time": "2022-05-18T08:12:39.423972",
     "exception": false,
     "start_time": "2022-05-18T08:12:39.363524",
     "status": "completed"
    },
    "tags": []
   },
   "outputs": [
    {
     "data": {
      "application/javascript": [
       "parent.postMessage({\"jupyterEvent\": \"custom.exercise_interaction\", \"data\": {\"outcomeType\": 1, \"valueTowardsCompletion\": 0.5, \"interactionType\": 1, \"questionType\": 1, \"questionId\": \"3.1_CardinalityA\", \"learnToolsVersion\": \"0.3.4\", \"failureMessage\": \"\", \"exceptionClass\": \"\", \"trace\": \"\"}}, \"*\")"
      ],
      "text/plain": [
       "<IPython.core.display.Javascript object>"
      ]
     },
     "metadata": {},
     "output_type": "display_data"
    },
    {
     "data": {
      "text/markdown": [
       "<span style=\"color:#33cc33\">Correct</span>"
      ],
      "text/plain": [
       "Correct"
      ]
     },
     "metadata": {},
     "output_type": "display_data"
    }
   ],
   "source": [
    "# Fill in the line below: How many categorical variables in the training data\n",
    "# have cardinality greater than 10?\n",
    "high_cardinality_numcols = 3\n",
    "\n",
    "# Fill in the line below: How many columns are needed to one-hot encode the \n",
    "# 'Neighborhood' variable in the training data?\n",
    "num_cols_neighborhood = 25\n",
    "\n",
    "# Check your answers\n",
    "step_3.a.check()"
   ]
  },
  {
   "cell_type": "code",
   "execution_count": 17,
   "id": "35368647",
   "metadata": {
    "execution": {
     "iopub.execute_input": "2022-05-18T08:12:39.521611Z",
     "iopub.status.busy": "2022-05-18T08:12:39.520852Z",
     "iopub.status.idle": "2022-05-18T08:12:39.525009Z",
     "shell.execute_reply": "2022-05-18T08:12:39.524181Z"
    },
    "papermill": {
     "duration": 0.055373,
     "end_time": "2022-05-18T08:12:39.527377",
     "exception": false,
     "start_time": "2022-05-18T08:12:39.472004",
     "status": "completed"
    },
    "tags": []
   },
   "outputs": [],
   "source": [
    "# Lines below will give you a hint or solution code\n",
    "#step_3.a.hint()\n",
    "#step_3.a.solution()"
   ]
  },
  {
   "cell_type": "markdown",
   "id": "7b60d0f1",
   "metadata": {
    "papermill": {
     "duration": 0.047118,
     "end_time": "2022-05-18T08:12:39.621908",
     "exception": false,
     "start_time": "2022-05-18T08:12:39.574790",
     "status": "completed"
    },
    "tags": []
   },
   "source": [
    "### Part B\n",
    "\n",
    "For large datasets with many rows, one-hot encoding can greatly expand the size of the dataset.  For this reason, we typically will only one-hot encode columns with relatively low cardinality.  Then, high cardinality columns can either be dropped from the dataset, or we can use ordinal encoding.\n",
    "\n",
    "As an example, consider a dataset with 10,000 rows, and containing one categorical column with 100 unique entries.  \n",
    "- If this column is replaced with the corresponding one-hot encoding, how many entries are added to the dataset?  \n",
    "- If we instead replace the column with the ordinal encoding, how many entries are added?  \n",
    "\n",
    "Use your answers to fill in the lines below."
   ]
  },
  {
   "cell_type": "code",
   "execution_count": 18,
   "id": "9c9f47f5",
   "metadata": {
    "execution": {
     "iopub.execute_input": "2022-05-18T08:12:39.721165Z",
     "iopub.status.busy": "2022-05-18T08:12:39.720622Z",
     "iopub.status.idle": "2022-05-18T08:12:39.727774Z",
     "shell.execute_reply": "2022-05-18T08:12:39.727106Z"
    },
    "papermill": {
     "duration": 0.058078,
     "end_time": "2022-05-18T08:12:39.729551",
     "exception": false,
     "start_time": "2022-05-18T08:12:39.671473",
     "status": "completed"
    },
    "tags": []
   },
   "outputs": [
    {
     "data": {
      "application/javascript": [
       "parent.postMessage({\"jupyterEvent\": \"custom.exercise_interaction\", \"data\": {\"outcomeType\": 1, \"valueTowardsCompletion\": 0.5, \"interactionType\": 1, \"questionType\": 1, \"questionId\": \"3.2_CardinalityB\", \"learnToolsVersion\": \"0.3.4\", \"failureMessage\": \"\", \"exceptionClass\": \"\", \"trace\": \"\"}}, \"*\")"
      ],
      "text/plain": [
       "<IPython.core.display.Javascript object>"
      ]
     },
     "metadata": {},
     "output_type": "display_data"
    },
    {
     "data": {
      "text/markdown": [
       "<span style=\"color:#33cc33\">Correct</span>"
      ],
      "text/plain": [
       "Correct"
      ]
     },
     "metadata": {},
     "output_type": "display_data"
    }
   ],
   "source": [
    "# Fill in the line below: How many entries are added to the dataset by \n",
    "# replacing the column with a one-hot encoding?\n",
    "OH_entries_added = 10000*100-10000\n",
    "\n",
    "# Fill in the line below: How many entries are added to the dataset by\n",
    "# replacing the column with an ordinal encoding?\n",
    "label_entries_added = 0\n",
    "\n",
    "# Check your answers\n",
    "step_3.b.check()"
   ]
  },
  {
   "cell_type": "code",
   "execution_count": 19,
   "id": "8d5efb07",
   "metadata": {
    "execution": {
     "iopub.execute_input": "2022-05-18T08:12:39.828390Z",
     "iopub.status.busy": "2022-05-18T08:12:39.827829Z",
     "iopub.status.idle": "2022-05-18T08:12:39.830965Z",
     "shell.execute_reply": "2022-05-18T08:12:39.830353Z"
    },
    "papermill": {
     "duration": 0.054165,
     "end_time": "2022-05-18T08:12:39.832779",
     "exception": false,
     "start_time": "2022-05-18T08:12:39.778614",
     "status": "completed"
    },
    "tags": []
   },
   "outputs": [],
   "source": [
    "# Lines below will give you a hint or solution code\n",
    "#step_3.b.hint()\n",
    "#step_3.b.solution()"
   ]
  },
  {
   "cell_type": "markdown",
   "id": "c1c89c07",
   "metadata": {
    "papermill": {
     "duration": 0.048744,
     "end_time": "2022-05-18T08:12:39.929461",
     "exception": false,
     "start_time": "2022-05-18T08:12:39.880717",
     "status": "completed"
    },
    "tags": []
   },
   "source": [
    "Next, you'll experiment with one-hot encoding.  But, instead of encoding all of the categorical variables in the dataset, you'll only create a one-hot encoding for columns with cardinality less than 10.\n",
    "\n",
    "Run the code cell below without changes to set `low_cardinality_cols` to a Python list containing the columns that will be one-hot encoded.  Likewise, `high_cardinality_cols` contains a list of categorical columns that will be dropped from the dataset."
   ]
  },
  {
   "cell_type": "code",
   "execution_count": 20,
   "id": "a0c8c74d",
   "metadata": {
    "execution": {
     "iopub.execute_input": "2022-05-18T08:12:40.028812Z",
     "iopub.status.busy": "2022-05-18T08:12:40.028246Z",
     "iopub.status.idle": "2022-05-18T08:12:40.039063Z",
     "shell.execute_reply": "2022-05-18T08:12:40.038432Z"
    },
    "papermill": {
     "duration": 0.06226,
     "end_time": "2022-05-18T08:12:40.041212",
     "exception": false,
     "start_time": "2022-05-18T08:12:39.978952",
     "status": "completed"
    },
    "tags": []
   },
   "outputs": [
    {
     "name": "stdout",
     "output_type": "stream",
     "text": [
      "Categorical columns that will be one-hot encoded: ['MSZoning', 'Street', 'LotShape', 'LandContour', 'Utilities', 'LotConfig', 'LandSlope', 'Condition1', 'Condition2', 'BldgType', 'HouseStyle', 'RoofStyle', 'RoofMatl', 'ExterQual', 'ExterCond', 'Foundation', 'Heating', 'HeatingQC', 'CentralAir', 'KitchenQual', 'Functional', 'PavedDrive', 'SaleType', 'SaleCondition']\n",
      "\n",
      "Categorical columns that will be dropped from the dataset: ['Exterior2nd', 'Exterior1st', 'Neighborhood']\n"
     ]
    }
   ],
   "source": [
    "# Columns that will be one-hot encoded\n",
    "low_cardinality_cols = [col for col in object_cols if X_train[col].nunique() < 10]\n",
    "\n",
    "# Columns that will be dropped from the dataset\n",
    "high_cardinality_cols = list(set(object_cols)-set(low_cardinality_cols))\n",
    "\n",
    "print('Categorical columns that will be one-hot encoded:', low_cardinality_cols)\n",
    "print('\\nCategorical columns that will be dropped from the dataset:', high_cardinality_cols)"
   ]
  },
  {
   "cell_type": "markdown",
   "id": "545425a1",
   "metadata": {
    "papermill": {
     "duration": 0.048019,
     "end_time": "2022-05-18T08:12:40.138002",
     "exception": false,
     "start_time": "2022-05-18T08:12:40.089983",
     "status": "completed"
    },
    "tags": []
   },
   "source": [
    "# Step 4: One-hot encoding\n",
    "\n",
    "Use the next code cell to one-hot encode the data in `X_train` and `X_valid`.  Set the preprocessed DataFrames to `OH_X_train` and `OH_X_valid`, respectively.  \n",
    "- The full list of categorical columns in the dataset can be found in the Python list `object_cols`.\n",
    "- You should only one-hot encode the categorical columns in `low_cardinality_cols`.  All other categorical columns should be dropped from the dataset. "
   ]
  },
  {
   "cell_type": "code",
   "execution_count": 21,
   "id": "d44e9716",
   "metadata": {
    "execution": {
     "iopub.execute_input": "2022-05-18T08:12:40.237149Z",
     "iopub.status.busy": "2022-05-18T08:12:40.236816Z",
     "iopub.status.idle": "2022-05-18T08:12:40.314892Z",
     "shell.execute_reply": "2022-05-18T08:12:40.313671Z"
    },
    "papermill": {
     "duration": 0.131077,
     "end_time": "2022-05-18T08:12:40.317032",
     "exception": false,
     "start_time": "2022-05-18T08:12:40.185955",
     "status": "completed"
    },
    "tags": []
   },
   "outputs": [
    {
     "name": "stdout",
     "output_type": "stream",
     "text": [
      "X_test (1459, 60)\n"
     ]
    },
    {
     "data": {
      "application/javascript": [
       "parent.postMessage({\"jupyterEvent\": \"custom.exercise_interaction\", \"data\": {\"outcomeType\": 1, \"valueTowardsCompletion\": 0.5, \"interactionType\": 1, \"questionType\": 2, \"questionId\": \"4_OneHot\", \"learnToolsVersion\": \"0.3.4\", \"failureMessage\": \"\", \"exceptionClass\": \"\", \"trace\": \"\"}}, \"*\")"
      ],
      "text/plain": [
       "<IPython.core.display.Javascript object>"
      ]
     },
     "metadata": {},
     "output_type": "display_data"
    },
    {
     "data": {
      "text/markdown": [
       "<span style=\"color:#33cc33\">Correct</span>"
      ],
      "text/plain": [
       "Correct"
      ]
     },
     "metadata": {},
     "output_type": "display_data"
    }
   ],
   "source": [
    "from sklearn.preprocessing import OneHotEncoder\n",
    "\n",
    "X_test = X_test.fillna(method='ffill')\n",
    "print(\"X_test \" + str(X_test.shape))\n",
    "oh_encoder = OneHotEncoder(handle_unknown = 'ignore', sparse = False)\n",
    "\n",
    "# Use as many lines of code as you need!\n",
    "\n",
    "OH_cols_train = pd.DataFrame(oh_encoder.fit_transform(X_train[low_cardinality_cols]))\n",
    "OH_cols_valid = pd.DataFrame(oh_encoder.transform(X_valid[low_cardinality_cols]))\n",
    "\n",
    "OH_cols_train.index = X_train.index\n",
    "OH_cols_valid.index = X_valid.index\n",
    "\n",
    "num_X_train = X_train.drop(object_cols, axis=1)\n",
    "num_X_valid = X_valid.drop(object_cols, axis=1)\n",
    "\n",
    "OH_X_train = pd.concat([num_X_train,OH_cols_train],axis=1)\n",
    "OH_X_valid = pd.concat([num_X_valid,OH_cols_valid],axis=1)\n",
    "\n",
    "OH_cols_test = pd.DataFrame(oh_encoder.transform(X_test[low_cardinality_cols]))\n",
    "OH_cols_test.index = X_test.index\n",
    "num_X_test = X_test.drop(object_cols, axis=1)\n",
    "OH_X_test = pd.concat([num_X_test,OH_cols_test],axis=1)\n",
    "\n",
    "# Check your answer\n",
    "step_4.check()"
   ]
  },
  {
   "cell_type": "code",
   "execution_count": 22,
   "id": "571fe1c4",
   "metadata": {
    "execution": {
     "iopub.execute_input": "2022-05-18T08:12:40.418447Z",
     "iopub.status.busy": "2022-05-18T08:12:40.418107Z",
     "iopub.status.idle": "2022-05-18T08:12:40.439571Z",
     "shell.execute_reply": "2022-05-18T08:12:40.438840Z"
    },
    "papermill": {
     "duration": 0.075238,
     "end_time": "2022-05-18T08:12:40.442309",
     "exception": false,
     "start_time": "2022-05-18T08:12:40.367071",
     "status": "completed"
    },
    "tags": []
   },
   "outputs": [
    {
     "name": "stdout",
     "output_type": "stream",
     "text": [
      "      MSSubClass  LotArea  OverallQual  OverallCond  YearBuilt  YearRemodAdd  \\\n",
      "Id                                                                             \n",
      "1461          20    11622            5            6       1961          1961   \n",
      "1462          20    14267            6            6       1958          1958   \n",
      "1463          60    13830            5            5       1997          1998   \n",
      "1464          60     9978            6            6       1998          1998   \n",
      "1465         120     5005            8            5       1992          1992   \n",
      "...          ...      ...          ...          ...        ...           ...   \n",
      "2915         160     1936            4            7       1970          1970   \n",
      "2916         160     1894            4            5       1970          1970   \n",
      "2917          20    20000            5            7       1960          1996   \n",
      "2918          85    10441            5            5       1992          1992   \n",
      "2919          60     9627            7            5       1993          1994   \n",
      "\n",
      "      BsmtFinSF1  BsmtFinSF2  BsmtUnfSF  TotalBsmtSF  ...  112  113  114  115  \\\n",
      "Id                                                    ...                       \n",
      "1461       468.0       144.0      270.0        882.0  ...  0.0  0.0  0.0  1.0   \n",
      "1462       923.0         0.0      406.0       1329.0  ...  0.0  0.0  0.0  1.0   \n",
      "1463       791.0         0.0      137.0        928.0  ...  0.0  0.0  0.0  1.0   \n",
      "1464       602.0         0.0      324.0        926.0  ...  0.0  0.0  0.0  1.0   \n",
      "1465       263.0         0.0     1017.0       1280.0  ...  0.0  0.0  0.0  1.0   \n",
      "...          ...         ...        ...          ...  ...  ...  ...  ...  ...   \n",
      "2915         0.0         0.0      546.0        546.0  ...  0.0  0.0  0.0  1.0   \n",
      "2916       252.0         0.0      294.0        546.0  ...  0.0  0.0  0.0  1.0   \n",
      "2917      1224.0         0.0        0.0       1224.0  ...  0.0  0.0  0.0  1.0   \n",
      "2918       337.0         0.0      575.0        912.0  ...  0.0  0.0  0.0  1.0   \n",
      "2919       758.0         0.0      238.0        996.0  ...  0.0  0.0  0.0  1.0   \n",
      "\n",
      "      116  117  118  119  120  121  \n",
      "Id                                  \n",
      "1461  0.0  0.0  0.0  0.0  1.0  0.0  \n",
      "1462  0.0  0.0  0.0  0.0  1.0  0.0  \n",
      "1463  0.0  0.0  0.0  0.0  1.0  0.0  \n",
      "1464  0.0  0.0  0.0  0.0  1.0  0.0  \n",
      "1465  0.0  0.0  0.0  0.0  1.0  0.0  \n",
      "...   ...  ...  ...  ...  ...  ...  \n",
      "2915  0.0  0.0  0.0  0.0  1.0  0.0  \n",
      "2916  1.0  0.0  0.0  0.0  0.0  0.0  \n",
      "2917  1.0  0.0  0.0  0.0  0.0  0.0  \n",
      "2918  0.0  0.0  0.0  0.0  1.0  0.0  \n",
      "2919  0.0  0.0  0.0  0.0  1.0  0.0  \n",
      "\n",
      "[1459 rows x 155 columns]\n"
     ]
    }
   ],
   "source": [
    "print(OH_X_test)"
   ]
  },
  {
   "cell_type": "code",
   "execution_count": 23,
   "id": "d0d211f4",
   "metadata": {
    "execution": {
     "iopub.execute_input": "2022-05-18T08:12:40.545343Z",
     "iopub.status.busy": "2022-05-18T08:12:40.545051Z",
     "iopub.status.idle": "2022-05-18T08:12:40.548110Z",
     "shell.execute_reply": "2022-05-18T08:12:40.547471Z"
    },
    "papermill": {
     "duration": 0.057019,
     "end_time": "2022-05-18T08:12:40.550057",
     "exception": false,
     "start_time": "2022-05-18T08:12:40.493038",
     "status": "completed"
    },
    "tags": []
   },
   "outputs": [],
   "source": [
    "# Lines below will give you a hint or solution code\n",
    "#step_4.hint()\n",
    "#step_4.solution()"
   ]
  },
  {
   "cell_type": "markdown",
   "id": "9ab35ab2",
   "metadata": {
    "papermill": {
     "duration": 0.050541,
     "end_time": "2022-05-18T08:12:40.651286",
     "exception": false,
     "start_time": "2022-05-18T08:12:40.600745",
     "status": "completed"
    },
    "tags": []
   },
   "source": [
    "Run the next code cell to get the MAE for this approach."
   ]
  },
  {
   "cell_type": "code",
   "execution_count": 24,
   "id": "840b7dee",
   "metadata": {
    "execution": {
     "iopub.execute_input": "2022-05-18T08:12:40.753585Z",
     "iopub.status.busy": "2022-05-18T08:12:40.753099Z",
     "iopub.status.idle": "2022-05-18T08:12:42.561762Z",
     "shell.execute_reply": "2022-05-18T08:12:42.560760Z"
    },
    "papermill": {
     "duration": 1.863158,
     "end_time": "2022-05-18T08:12:42.564519",
     "exception": false,
     "start_time": "2022-05-18T08:12:40.701361",
     "status": "completed"
    },
    "tags": []
   },
   "outputs": [
    {
     "name": "stdout",
     "output_type": "stream",
     "text": [
      "MAE from Approach 3 (One-Hot Encoding):\n"
     ]
    },
    {
     "name": "stderr",
     "output_type": "stream",
     "text": [
      "/opt/conda/lib/python3.7/site-packages/sklearn/utils/validation.py:1692: FutureWarning: Feature names only support names that are all strings. Got feature names with dtypes: ['int', 'str']. An error will be raised in 1.2.\n",
      "  FutureWarning,\n"
     ]
    },
    {
     "name": "stdout",
     "output_type": "stream",
     "text": [
      "17525.345719178084\n"
     ]
    },
    {
     "name": "stderr",
     "output_type": "stream",
     "text": [
      "/opt/conda/lib/python3.7/site-packages/sklearn/utils/validation.py:1692: FutureWarning: Feature names only support names that are all strings. Got feature names with dtypes: ['int', 'str']. An error will be raised in 1.2.\n",
      "  FutureWarning,\n"
     ]
    }
   ],
   "source": [
    "print(\"MAE from Approach 3 (One-Hot Encoding):\") \n",
    "print(score_dataset(OH_X_train, OH_X_valid, y_train, y_valid))"
   ]
  },
  {
   "cell_type": "markdown",
   "id": "1a756d5e",
   "metadata": {
    "papermill": {
     "duration": 0.052477,
     "end_time": "2022-05-18T08:12:42.669120",
     "exception": false,
     "start_time": "2022-05-18T08:12:42.616643",
     "status": "completed"
    },
    "tags": []
   },
   "source": [
    "# Generate test predictions and submit your results\n",
    "\n",
    "After you complete Step 4, if you'd like to use what you've learned to submit your results to the leaderboard, you'll need to preprocess the test data before generating predictions.\n",
    "\n",
    "**This step is completely optional, and you do not need to submit results to the leaderboard to successfully complete the exercise.**\n",
    "\n",
    "Check out the previous exercise if you need help with remembering how to [join the competition](https://www.kaggle.com/c/home-data-for-ml-course) or save your results to CSV.  Once you have generated a file with your results, follow the instructions below:\n",
    "1. Begin by clicking on the **Save Version** button in the top right corner of the window.  This will generate a pop-up window.  \n",
    "2. Ensure that the **Save and Run All** option is selected, and then click on the **Save** button.\n",
    "3. This generates a window in the bottom left corner of the notebook.  After it has finished running, click on the number to the right of the **Save Version** button.  This pulls up a list of versions on the right of the screen.  Click on the ellipsis **(...)** to the right of the most recent version, and select **Open in Viewer**.  This brings you into view mode of the same page. You will need to scroll down to get back to these instructions.\n",
    "4. Click on the **Output** tab on the right of the screen.  Then, click on the file you would like to submit, and click on the **Submit** button to submit your results to the leaderboard.\n",
    "\n",
    "You have now successfully submitted to the competition!\n",
    "\n",
    "If you want to keep working to improve your performance, select the **Edit** button in the top right of the screen. Then you can change your code and repeat the process. There's a lot of room to improve, and you will climb up the leaderboard as you work.\n"
   ]
  },
  {
   "cell_type": "code",
   "execution_count": 25,
   "id": "8145f6a1",
   "metadata": {
    "execution": {
     "iopub.execute_input": "2022-05-18T08:12:42.781445Z",
     "iopub.status.busy": "2022-05-18T08:12:42.780536Z",
     "iopub.status.idle": "2022-05-18T08:12:44.590889Z",
     "shell.execute_reply": "2022-05-18T08:12:44.589983Z"
    },
    "papermill": {
     "duration": 1.872044,
     "end_time": "2022-05-18T08:12:44.594805",
     "exception": false,
     "start_time": "2022-05-18T08:12:42.722761",
     "status": "completed"
    },
    "tags": []
   },
   "outputs": [
    {
     "name": "stderr",
     "output_type": "stream",
     "text": [
      "/opt/conda/lib/python3.7/site-packages/sklearn/utils/validation.py:1692: FutureWarning: Feature names only support names that are all strings. Got feature names with dtypes: ['int', 'str']. An error will be raised in 1.2.\n",
      "  FutureWarning,\n",
      "/opt/conda/lib/python3.7/site-packages/sklearn/utils/validation.py:1692: FutureWarning: Feature names only support names that are all strings. Got feature names with dtypes: ['int', 'str']. An error will be raised in 1.2.\n",
      "  FutureWarning,\n"
     ]
    }
   ],
   "source": [
    "model = RandomForestRegressor(n_estimators=100, random_state=0)\n",
    "model.fit(OH_X_train, y_train)\n",
    "preds_test = model.predict(OH_X_test)\n",
    "\n",
    "# Get validation predictions and MAE\n",
    "\n",
    "output = pd.DataFrame({'Id': OH_X_test.index,\n",
    "                       'SalePrice': preds_test})\n",
    "output.to_csv('submission.csv', index=False)"
   ]
  },
  {
   "cell_type": "markdown",
   "id": "1c908261",
   "metadata": {
    "papermill": {
     "duration": 0.052273,
     "end_time": "2022-05-18T08:12:44.700176",
     "exception": false,
     "start_time": "2022-05-18T08:12:44.647903",
     "status": "completed"
    },
    "tags": []
   },
   "source": [
    "# Keep going\n",
    "\n",
    "With missing value handling and categorical encoding, your modeling process is getting complex. This complexity gets worse when you want to save your model to use in the future. The key to managing this complexity is something called **pipelines**. \n",
    "\n",
    "**[Learn to use pipelines](https://www.kaggle.com/alexisbcook/pipelines)** to preprocess datasets with categorical variables, missing values and any other messiness your data throws at you."
   ]
  },
  {
   "cell_type": "markdown",
   "id": "40876fbc",
   "metadata": {
    "papermill": {
     "duration": 0.052449,
     "end_time": "2022-05-18T08:12:44.805523",
     "exception": false,
     "start_time": "2022-05-18T08:12:44.753074",
     "status": "completed"
    },
    "tags": []
   },
   "source": [
    "---\n",
    "\n",
    "\n",
    "\n",
    "\n",
    "*Have questions or comments? Visit the [course discussion forum](https://www.kaggle.com/learn/intermediate-machine-learning/discussion) to chat with other learners.*"
   ]
  }
 ],
 "metadata": {
  "kernelspec": {
   "display_name": "Python 3",
   "language": "python",
   "name": "python3"
  },
  "language_info": {
   "codemirror_mode": {
    "name": "ipython",
    "version": 3
   },
   "file_extension": ".py",
   "mimetype": "text/x-python",
   "name": "python",
   "nbconvert_exporter": "python",
   "pygments_lexer": "ipython3",
   "version": "3.7.12"
  },
  "papermill": {
   "default_parameters": {},
   "duration": 23.852556,
   "end_time": "2022-05-18T08:12:45.579763",
   "environment_variables": {},
   "exception": null,
   "input_path": "__notebook__.ipynb",
   "output_path": "__notebook__.ipynb",
   "parameters": {},
   "start_time": "2022-05-18T08:12:21.727207",
   "version": "2.3.4"
  }
 },
 "nbformat": 4,
 "nbformat_minor": 5
}
